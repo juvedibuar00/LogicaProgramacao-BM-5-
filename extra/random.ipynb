{
 "cells": [
  {
   "cell_type": "code",
   "execution_count": 8,
   "id": "987ee947",
   "metadata": {},
   "outputs": [
    {
     "name": "stdout",
     "output_type": "stream",
     "text": [
      "Número aleatório: 53\n"
     ]
    }
   ],
   "source": [
    "import random\n",
    "\n",
    "numero = random.randint(1, 100)\n",
    "print(\"Número aleatório:\", numero)"
   ]
  },
  {
   "cell_type": "code",
   "execution_count": null,
   "id": "839bae9e",
   "metadata": {},
   "outputs": [
    {
     "name": "stdout",
     "output_type": "stream",
     "text": [
      "Carregando...\n",
      "Pronto!\n"
     ]
    }
   ],
   "source": [
    "import time\n",
    "\n",
    "# Pausar o programa por x segundos\n",
    "print(\"Carregando...\")\n",
    "time.sleep(10)\n",
    "print(\"Pronto!\")"
   ]
  }
 ],
 "metadata": {
  "kernelspec": {
   "display_name": "Python 3",
   "language": "python",
   "name": "python3"
  },
  "language_info": {
   "codemirror_mode": {
    "name": "ipython",
    "version": 3
   },
   "file_extension": ".py",
   "mimetype": "text/x-python",
   "name": "python",
   "nbconvert_exporter": "python",
   "pygments_lexer": "ipython3",
   "version": "3.13.6"
  }
 },
 "nbformat": 4,
 "nbformat_minor": 5
}
